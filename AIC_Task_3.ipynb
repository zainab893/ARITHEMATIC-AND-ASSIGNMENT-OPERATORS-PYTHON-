{
  "nbformat": 4,
  "nbformat_minor": 0,
  "metadata": {
    "colab": {
      "provenance": []
    },
    "kernelspec": {
      "name": "python3",
      "display_name": "Python 3"
    },
    "language_info": {
      "name": "python"
    }
  },
  "cells": [
    {
      "cell_type": "code",
      "source": [
        "#SYEDA ZAINAB FATIMA\n",
        "#WS25-INT-PAK-A1-01\n",
        "#OPERATORS"
      ],
      "metadata": {
        "id": "xN_J3Q0KKxYT"
      },
      "execution_count": null,
      "outputs": []
    },
    {
      "cell_type": "code",
      "source": [
        "# ARITHEMATICS OPERATORS\n",
        "#SUM\n",
        "a = 15\n",
        "b = 20\n",
        "sum= 15+20\n",
        "print(sum)\n",
        "\n",
        "c=3\n",
        "d=5\n",
        "sum=c+d\n",
        "print(sum)\n",
        "\n",
        "e = 5\n",
        "f = 10\n",
        "sum = e+f\n",
        "print(sum)\n",
        "\n",
        "num1 = 10\n",
        "num2 = 15\n",
        "sum = num1 + num2\n",
        "print(sum)\n",
        "\n",
        "num_1 = 20\n",
        "num_2= 30\n",
        "sum = num_1+num_2\n",
        "print(sum)"
      ],
      "metadata": {
        "colab": {
          "base_uri": "https://localhost:8080/"
        },
        "id": "ILR6QZvYDuN1",
        "outputId": "b0370b41-030c-467e-ef0d-2152b3bbcd7e"
      },
      "execution_count": 1,
      "outputs": [
        {
          "output_type": "stream",
          "name": "stdout",
          "text": [
            "35\n",
            "8\n",
            "15\n",
            "25\n",
            "50\n"
          ]
        }
      ]
    },
    {
      "cell_type": "code",
      "source": [
        "#SUBTRACTION\n",
        "a = 15\n",
        "b = 20\n",
        "SUBTRACTION= 15-20\n",
        "print(SUBTRACTION)\n",
        "\n",
        "c=3\n",
        "d=5\n",
        "SUBTRACTION=c-d\n",
        "print(SUBTRACTION)\n",
        "\n",
        "e = 5\n",
        "f = 10\n",
        "SUBTRACTION = e-f\n",
        "print(SUBTRACTION)\n",
        "\n",
        "num1 = 10\n",
        "num2 = 15\n",
        "SUBTRACTION = num1 - num2\n",
        "print(SUBTRACTION)\n",
        "\n",
        "num_1 = 20\n",
        "num_2 =30\n",
        "SUBTRACTION =num_1+num_2\n",
        "print(SUBTRACTION)"
      ],
      "metadata": {
        "colab": {
          "base_uri": "https://localhost:8080/"
        },
        "id": "htf6QVhSDuYL",
        "outputId": "c816d3e8-7e2b-4754-bdb3-236be4918aae"
      },
      "execution_count": 4,
      "outputs": [
        {
          "output_type": "stream",
          "name": "stdout",
          "text": [
            "-5\n",
            "-2\n",
            "-5\n",
            "-5\n",
            "50\n"
          ]
        }
      ]
    },
    {
      "cell_type": "code",
      "source": [
        "# DIVISION\n",
        "a = 30\n",
        "b = 5\n",
        "division = a/b\n",
        "print(division)\n",
        "\n",
        "c = 20\n",
        "d = 4\n",
        "division = c/d\n",
        "print(division)\n",
        "\n",
        "e = 10\n",
        "f = 2\n",
        "division = e/f\n",
        "print(division)\n",
        "\n",
        "num1 = 10\n",
        "num2 = 5\n",
        "division = num1/num2\n",
        "print(division)\n",
        "\n",
        "num_1 = 20\n",
        "num_2 = 4\n",
        "division = num_1/num_2\n",
        "print(division)"
      ],
      "metadata": {
        "colab": {
          "base_uri": "https://localhost:8080/"
        },
        "id": "31c6kLOkKxbk",
        "outputId": "4bb33725-5592-41f3-fbd5-7ecd3e8722cd"
      },
      "execution_count": 5,
      "outputs": [
        {
          "output_type": "stream",
          "name": "stdout",
          "text": [
            "6.0\n",
            "5.0\n",
            "5.0\n",
            "2.0\n",
            "5.0\n"
          ]
        }
      ]
    },
    {
      "cell_type": "code",
      "source": [
        "# MULTIPLICATION\n",
        "a = 5\n",
        "b = 3\n",
        "multiplication = a*b\n",
        "print(multiplication)\n",
        "\n",
        "c = 4\n",
        "d = 2\n",
        "multiplication = c*d\n",
        "print(multiplication)\n",
        "\n",
        "e = 11\n",
        "f = 5\n",
        "multiplication = e*f\n",
        "print(multiplication)\n",
        "\n",
        "num1 = 3\n",
        "num2 = 2\n",
        "multiplication = num1*num2\n",
        "print(multiplication)\n",
        "\n",
        "num_1 = 5\n",
        "num_2 = 4\n",
        "multiplication = num_1*num_2\n",
        "print(multiplication)"
      ],
      "metadata": {
        "colab": {
          "base_uri": "https://localhost:8080/"
        },
        "id": "u5OaYsEXFnKl",
        "outputId": "7ead63cf-8b8a-4929-8464-ab0cfe1ad2a0"
      },
      "execution_count": 6,
      "outputs": [
        {
          "output_type": "stream",
          "name": "stdout",
          "text": [
            "15\n",
            "8\n",
            "55\n",
            "6\n",
            "20\n"
          ]
        }
      ]
    },
    {
      "cell_type": "code",
      "source": [
        "#MODULUS\n",
        "a = 10\n",
        "b = 3\n",
        "modulus = a%b\n",
        "print(modulus)\n",
        "\n",
        "c = 15\n",
        "d = 4\n",
        "modulus = c%d\n",
        "print(modulus)\n",
        "\n",
        "e = 25\n",
        "f = 5\n",
        "modulus = e%f\n",
        "print(modulus)\n",
        "\n",
        "num1 = 15\n",
        "num2 = 3\n",
        "modulus = num1%num2\n",
        "print(modulus)\n",
        "\n",
        "num_1 = 18\n",
        "num_2 = 4\n",
        "modulus = num_1%num_2\n",
        "print(modulus)"
      ],
      "metadata": {
        "colab": {
          "base_uri": "https://localhost:8080/"
        },
        "id": "mgiJQj9dKxlW",
        "outputId": "5ab26e40-fc35-4e93-d616-0c2dda610de6"
      },
      "execution_count": 7,
      "outputs": [
        {
          "output_type": "stream",
          "name": "stdout",
          "text": [
            "1\n",
            "3\n",
            "0\n",
            "0\n",
            "2\n"
          ]
        }
      ]
    },
    {
      "cell_type": "code",
      "source": [
        "#ASSIGNMENT OPERATORS\n",
        "#EQUALS\n",
        "a = 4\n",
        "b = 2\n",
        "print(a)\n",
        "print(b)\n",
        "\n",
        "c = 5\n",
        "d = 3\n",
        "print(c)\n",
        "print(d)\n",
        "\n",
        "num1=2\n",
        "num2=1\n",
        "print(num1)\n",
        "print(num2)\n",
        "\n",
        "var_1 = 15\n",
        "var_2 =20\n",
        "print(var_1)\n",
        "print(var_2)\n",
        "\n",
        "number_a = 25\n",
        "number_b = 30\n",
        "print(number_a)\n",
        "print(number_b)\n"
      ],
      "metadata": {
        "colab": {
          "base_uri": "https://localhost:8080/"
        },
        "id": "XiSLq4HbK5y6",
        "outputId": "bf6d79c9-ffb8-40f8-8a69-c2473d446c1a"
      },
      "execution_count": 10,
      "outputs": [
        {
          "output_type": "stream",
          "name": "stdout",
          "text": [
            "4\n",
            "2\n",
            "5\n",
            "3\n",
            "2\n",
            "1\n",
            "15\n",
            "20\n",
            "25\n",
            "30\n"
          ]
        }
      ]
    },
    {
      "cell_type": "code",
      "source": [
        "#+=\n",
        "a = 5\n",
        "a +=4\n",
        "print(a)\n",
        "\n",
        "b=15\n",
        "b += 5\n",
        "print(b)\n",
        "\n",
        "d=10\n",
        "d +=20\n",
        "print(d)\n",
        "\n",
        "z = 30\n",
        "z +=5\n",
        "print(z)\n",
        "\n",
        "x = 50\n",
        "x +=20\n",
        "print(x)"
      ],
      "metadata": {
        "colab": {
          "base_uri": "https://localhost:8080/"
        },
        "id": "SHHfBdgZK539",
        "outputId": "f18a34ae-7993-4830-f0f9-8816efc8aca9"
      },
      "execution_count": 11,
      "outputs": [
        {
          "output_type": "stream",
          "name": "stdout",
          "text": [
            "9\n",
            "20\n",
            "30\n",
            "35\n",
            "70\n"
          ]
        }
      ]
    },
    {
      "cell_type": "code",
      "source": [
        "#-=\n",
        "a = 20\n",
        "a -= 10\n",
        "print(a)\n",
        "\n",
        "b = 50\n",
        "b -=10\n",
        "print(b)\n",
        "\n",
        "x = 40\n",
        "x -= 20\n",
        "print(x)\n",
        "\n",
        "y = 15\n",
        "y -=5\n",
        "print(y)\n",
        "\n",
        "v = 70\n",
        "v -=40\n",
        "print(v)"
      ],
      "metadata": {
        "colab": {
          "base_uri": "https://localhost:8080/"
        },
        "id": "jPNzOPfLMMKh",
        "outputId": "716694f7-2c52-4c4a-9d2e-b6d829578a20"
      },
      "execution_count": 12,
      "outputs": [
        {
          "output_type": "stream",
          "name": "stdout",
          "text": [
            "10\n",
            "40\n",
            "20\n",
            "10\n",
            "30\n"
          ]
        }
      ]
    },
    {
      "cell_type": "code",
      "source": [
        "# *=\n",
        "a = 3\n",
        "a *= 3\n",
        "print(a)\n",
        "\n",
        "b= 4\n",
        "b *=4\n",
        "print(b)\n",
        "\n",
        "c = 2\n",
        "c *=5\n",
        "print(c)\n",
        "\n",
        "d = 10\n",
        "d *=6\n",
        "print(d)\n",
        "\n",
        "e = 7\n",
        "e *=7\n",
        "print(e)"
      ],
      "metadata": {
        "colab": {
          "base_uri": "https://localhost:8080/"
        },
        "id": "t8z5D6lfMMZi",
        "outputId": "59bcc98a-4297-46ef-c57f-730b5355b7f2"
      },
      "execution_count": 14,
      "outputs": [
        {
          "output_type": "stream",
          "name": "stdout",
          "text": [
            "9\n",
            "16\n",
            "10\n",
            "60\n",
            "49\n"
          ]
        }
      ]
    },
    {
      "cell_type": "code",
      "source": [
        "# /=\n",
        "a = 10\n",
        "a /=2\n",
        "print(a)\n",
        "\n",
        "b = 20\n",
        "b /=10\n",
        "print(b)\n",
        "\n",
        "c = 30\n",
        "c /=15\n",
        "print(c)\n",
        "\n",
        "d = 40\n",
        "d /=20\n",
        "print(d)\n",
        "\n",
        "e = 50\n",
        "e /=25\n",
        "print(e)"
      ],
      "metadata": {
        "colab": {
          "base_uri": "https://localhost:8080/"
        },
        "id": "qi010NCWNs6S",
        "outputId": "91b1d582-6c36-4a62-dcf8-0d119cf98475"
      },
      "execution_count": 15,
      "outputs": [
        {
          "output_type": "stream",
          "name": "stdout",
          "text": [
            "5.0\n",
            "2.0\n",
            "2.0\n",
            "2.0\n",
            "2.0\n"
          ]
        }
      ]
    },
    {
      "cell_type": "code",
      "source": [
        "# %=\n",
        "a = 10\n",
        "a %= 2\n",
        "print(a)\n",
        "\n",
        "b = 10\n",
        "b %= 3\n",
        "print(b)\n",
        "\n",
        "c = 20\n",
        "c %= 4\n",
        "print(c)\n",
        "\n",
        "d = 50\n",
        "d %= 5\n",
        "print(d)\n",
        "\n",
        "e = 36\n",
        "e %= 6\n",
        "print(e)"
      ],
      "metadata": {
        "colab": {
          "base_uri": "https://localhost:8080/"
        },
        "id": "C8sGV7OTK58w",
        "outputId": "19ebfecd-89a1-406d-c43e-da0164ea5b76"
      },
      "execution_count": 16,
      "outputs": [
        {
          "output_type": "stream",
          "name": "stdout",
          "text": [
            "0\n",
            "1\n",
            "0\n",
            "0\n",
            "0\n"
          ]
        }
      ]
    }
  ]
}